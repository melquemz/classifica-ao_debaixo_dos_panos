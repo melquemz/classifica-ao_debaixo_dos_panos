{
  "nbformat": 4,
  "nbformat_minor": 0,
  "metadata": {
    "colab": {
      "name": "classificaçao_debaixo_dos_panos.ipynb",
      "provenance": [],
      "collapsed_sections": [
        "jb33XiTwA7To"
      ],
      "authorship_tag": "ABX9TyN0osdUpMFbHQXbJtUn+OU8",
      "include_colab_link": true
    },
    "kernelspec": {
      "name": "python3",
      "display_name": "Python 3"
    },
    "language_info": {
      "name": "python"
    }
  },
  "cells": [
    {
      "cell_type": "markdown",
      "metadata": {
        "id": "view-in-github",
        "colab_type": "text"
      },
      "source": [
        "<a href=\"https://colab.research.google.com/github/melquemz/classifica-ao_debaixo_dos_panos/blob/main/classifica%C3%A7ao_debaixo_dos_panos.ipynb\" target=\"_parent\"><img src=\"https://colab.research.google.com/assets/colab-badge.svg\" alt=\"Open In Colab\"/></a>"
      ]
    },
    {
      "cell_type": "markdown",
      "source": [
        "#Introdução"
      ],
      "metadata": {
        "id": "jb33XiTwA7To"
      }
    },
    {
      "cell_type": "code",
      "execution_count": 1,
      "metadata": {
        "id": "3STg1dIKpDst"
      },
      "outputs": [],
      "source": [
        "porco1 = [1, 1, 0]\n",
        "porco2 = [1, 1, 0]\n",
        "porco3 = [1, 1, 0]\n",
        "cachorro4 = [1, 1, 1]\n",
        "cachorro5 = [0, 1, 1]\n",
        "cachorro6 = [0, 1, 1]\n",
        "\n",
        "dados = [porco1, porco2, porco3, cachorro4, cachorro5, cachorro6]\n",
        "\n",
        "marcacoes = [1, 1, 1, -1, -1, -1]\n",
        "\n",
        "misterioso = [1, 1, 1]\n",
        "\n",
        "from sklearn.naive_bayes import MultinomialNB\n",
        "\n",
        "modelo = MultinomialNB()"
      ]
    },
    {
      "cell_type": "code",
      "source": [
        "misterioso1 = [1, 1, 1]\n",
        "misterioso2 = [1, 0, 0]\n",
        "misterioso3 = [0, 0, 1]\n",
        "teste = [misterioso1, misterioso2, misterioso3]\n",
        "\n",
        "modelo.fit(dados, marcacoes)\n",
        "\n",
        "resultado = modelo.predict(teste)\n",
        "\n",
        "print(resultado)"
      ],
      "metadata": {
        "colab": {
          "base_uri": "https://localhost:8080/"
        },
        "id": "lBN4AvQBrn--",
        "outputId": "7ae65126-0be2-40a3-d4c5-7f453b245632"
      },
      "execution_count": 2,
      "outputs": [
        {
          "output_type": "stream",
          "name": "stdout",
          "text": [
            "[-1  1 -1]\n"
          ]
        }
      ]
    },
    {
      "cell_type": "code",
      "source": [
        "marcacoes_teste = [-1, 1, 1]\n",
        "\n",
        "diferencas = resultado - marcacoes_teste\n",
        "\n",
        "acertos = [d for d in diferencas if d == 0]\n",
        "\n",
        "total_de_acertos = len(acertos)\n",
        "total_de_elementos = len(teste)\n",
        "\n",
        "taxa_de_acerto = 100.0 * total_de_acertos / total_de_elementos\n",
        "\n",
        "print(resultado)\n",
        "print(diferencas)\n",
        "print(taxa_de_acerto)"
      ],
      "metadata": {
        "colab": {
          "base_uri": "https://localhost:8080/"
        },
        "id": "IPbhgRHO_De9",
        "outputId": "e4aef243-f89c-4f1f-e5e1-f58477a3ed07"
      },
      "execution_count": 3,
      "outputs": [
        {
          "output_type": "stream",
          "name": "stdout",
          "text": [
            "[-1  1 -1]\n",
            "[ 0  0 -2]\n",
            "66.66666666666667\n"
          ]
        }
      ]
    },
    {
      "cell_type": "markdown",
      "source": [
        "#Lendo e utilizando arquivo csv\n"
      ],
      "metadata": {
        "id": "zQkL2boBBcmy"
      }
    },
    {
      "cell_type": "code",
      "source": [
        "import pandas as pd\n",
        "\n",
        "dados = pd.read_csv('acesso.csv')\n",
        "dados.head()"
      ],
      "metadata": {
        "colab": {
          "base_uri": "https://localhost:8080/",
          "height": 0
        },
        "id": "S7NEPcd8BZr9",
        "outputId": "a9039383-1f76-4a7b-b986-56cb72467570"
      },
      "execution_count": 4,
      "outputs": [
        {
          "output_type": "execute_result",
          "data": {
            "text/html": [
              "\n",
              "  <div id=\"df-72767c26-122d-4b28-b50e-338f4575cb12\">\n",
              "    <div class=\"colab-df-container\">\n",
              "      <div>\n",
              "<style scoped>\n",
              "    .dataframe tbody tr th:only-of-type {\n",
              "        vertical-align: middle;\n",
              "    }\n",
              "\n",
              "    .dataframe tbody tr th {\n",
              "        vertical-align: top;\n",
              "    }\n",
              "\n",
              "    .dataframe thead th {\n",
              "        text-align: right;\n",
              "    }\n",
              "</style>\n",
              "<table border=\"1\" class=\"dataframe\">\n",
              "  <thead>\n",
              "    <tr style=\"text-align: right;\">\n",
              "      <th></th>\n",
              "      <th>acessou_home</th>\n",
              "      <th>acessou_como_funciona</th>\n",
              "      <th>acessou_contato</th>\n",
              "      <th>comprou</th>\n",
              "    </tr>\n",
              "  </thead>\n",
              "  <tbody>\n",
              "    <tr>\n",
              "      <th>0</th>\n",
              "      <td>1</td>\n",
              "      <td>1</td>\n",
              "      <td>0</td>\n",
              "      <td>0</td>\n",
              "    </tr>\n",
              "    <tr>\n",
              "      <th>1</th>\n",
              "      <td>1</td>\n",
              "      <td>1</td>\n",
              "      <td>0</td>\n",
              "      <td>0</td>\n",
              "    </tr>\n",
              "    <tr>\n",
              "      <th>2</th>\n",
              "      <td>1</td>\n",
              "      <td>1</td>\n",
              "      <td>0</td>\n",
              "      <td>0</td>\n",
              "    </tr>\n",
              "    <tr>\n",
              "      <th>3</th>\n",
              "      <td>1</td>\n",
              "      <td>1</td>\n",
              "      <td>0</td>\n",
              "      <td>0</td>\n",
              "    </tr>\n",
              "    <tr>\n",
              "      <th>4</th>\n",
              "      <td>1</td>\n",
              "      <td>1</td>\n",
              "      <td>0</td>\n",
              "      <td>0</td>\n",
              "    </tr>\n",
              "  </tbody>\n",
              "</table>\n",
              "</div>\n",
              "      <button class=\"colab-df-convert\" onclick=\"convertToInteractive('df-72767c26-122d-4b28-b50e-338f4575cb12')\"\n",
              "              title=\"Convert this dataframe to an interactive table.\"\n",
              "              style=\"display:none;\">\n",
              "        \n",
              "  <svg xmlns=\"http://www.w3.org/2000/svg\" height=\"24px\"viewBox=\"0 0 24 24\"\n",
              "       width=\"24px\">\n",
              "    <path d=\"M0 0h24v24H0V0z\" fill=\"none\"/>\n",
              "    <path d=\"M18.56 5.44l.94 2.06.94-2.06 2.06-.94-2.06-.94-.94-2.06-.94 2.06-2.06.94zm-11 1L8.5 8.5l.94-2.06 2.06-.94-2.06-.94L8.5 2.5l-.94 2.06-2.06.94zm10 10l.94 2.06.94-2.06 2.06-.94-2.06-.94-.94-2.06-.94 2.06-2.06.94z\"/><path d=\"M17.41 7.96l-1.37-1.37c-.4-.4-.92-.59-1.43-.59-.52 0-1.04.2-1.43.59L10.3 9.45l-7.72 7.72c-.78.78-.78 2.05 0 2.83L4 21.41c.39.39.9.59 1.41.59.51 0 1.02-.2 1.41-.59l7.78-7.78 2.81-2.81c.8-.78.8-2.07 0-2.86zM5.41 20L4 18.59l7.72-7.72 1.47 1.35L5.41 20z\"/>\n",
              "  </svg>\n",
              "      </button>\n",
              "      \n",
              "  <style>\n",
              "    .colab-df-container {\n",
              "      display:flex;\n",
              "      flex-wrap:wrap;\n",
              "      gap: 12px;\n",
              "    }\n",
              "\n",
              "    .colab-df-convert {\n",
              "      background-color: #E8F0FE;\n",
              "      border: none;\n",
              "      border-radius: 50%;\n",
              "      cursor: pointer;\n",
              "      display: none;\n",
              "      fill: #1967D2;\n",
              "      height: 32px;\n",
              "      padding: 0 0 0 0;\n",
              "      width: 32px;\n",
              "    }\n",
              "\n",
              "    .colab-df-convert:hover {\n",
              "      background-color: #E2EBFA;\n",
              "      box-shadow: 0px 1px 2px rgba(60, 64, 67, 0.3), 0px 1px 3px 1px rgba(60, 64, 67, 0.15);\n",
              "      fill: #174EA6;\n",
              "    }\n",
              "\n",
              "    [theme=dark] .colab-df-convert {\n",
              "      background-color: #3B4455;\n",
              "      fill: #D2E3FC;\n",
              "    }\n",
              "\n",
              "    [theme=dark] .colab-df-convert:hover {\n",
              "      background-color: #434B5C;\n",
              "      box-shadow: 0px 1px 3px 1px rgba(0, 0, 0, 0.15);\n",
              "      filter: drop-shadow(0px 1px 2px rgba(0, 0, 0, 0.3));\n",
              "      fill: #FFFFFF;\n",
              "    }\n",
              "  </style>\n",
              "\n",
              "      <script>\n",
              "        const buttonEl =\n",
              "          document.querySelector('#df-72767c26-122d-4b28-b50e-338f4575cb12 button.colab-df-convert');\n",
              "        buttonEl.style.display =\n",
              "          google.colab.kernel.accessAllowed ? 'block' : 'none';\n",
              "\n",
              "        async function convertToInteractive(key) {\n",
              "          const element = document.querySelector('#df-72767c26-122d-4b28-b50e-338f4575cb12');\n",
              "          const dataTable =\n",
              "            await google.colab.kernel.invokeFunction('convertToInteractive',\n",
              "                                                     [key], {});\n",
              "          if (!dataTable) return;\n",
              "\n",
              "          const docLinkHtml = 'Like what you see? Visit the ' +\n",
              "            '<a target=\"_blank\" href=https://colab.research.google.com/notebooks/data_table.ipynb>data table notebook</a>'\n",
              "            + ' to learn more about interactive tables.';\n",
              "          element.innerHTML = '';\n",
              "          dataTable['output_type'] = 'display_data';\n",
              "          await google.colab.output.renderOutput(dataTable, element);\n",
              "          const docLink = document.createElement('div');\n",
              "          docLink.innerHTML = docLinkHtml;\n",
              "          element.appendChild(docLink);\n",
              "        }\n",
              "      </script>\n",
              "    </div>\n",
              "  </div>\n",
              "  "
            ],
            "text/plain": [
              "   acessou_home  acessou_como_funciona  acessou_contato  comprou\n",
              "0             1                      1                0        0\n",
              "1             1                      1                0        0\n",
              "2             1                      1                0        0\n",
              "3             1                      1                0        0\n",
              "4             1                      1                0        0"
            ]
          },
          "metadata": {},
          "execution_count": 4
        }
      ]
    },
    {
      "cell_type": "code",
      "source": [
        "\n",
        "X = dados.drop('comprou', axis = 1)\n",
        "Y = dados.comprou\n",
        "\n",
        "\n",
        "treino_dados = X[:90]\n",
        "treino_marcacoes = Y[:90]\n",
        "\n",
        "teste_dados = X[-9:]\n",
        "teste_marcacoes = Y[-9:]\n",
        "\n",
        "from sklearn.naive_bayes import MultinomialNB\n",
        "modelo = MultinomialNB()\n",
        "modelo.fit(treino_dados, treino_marcacoes)\n",
        "\n",
        "resultado = modelo.predict(teste_dados)\n",
        "\n",
        "print(resultado)\n",
        "print(teste_marcacoes)\n",
        "\n",
        "diferencas = resultado - teste_marcacoes\n",
        "\n",
        "acertos = [d for d in diferencas if d == 0]\n",
        "total_de_acertos = len(acertos)\n",
        "total_de_elementos = len(teste_dados)\n",
        "\n",
        "taxa_de_acerto = 100.0 * total_de_acertos / total_de_elementos\n",
        "\n",
        "print(taxa_de_acerto)\n",
        "print(total_de_elementos)"
      ],
      "metadata": {
        "colab": {
          "base_uri": "https://localhost:8080/"
        },
        "id": "3Vi2aRo_BuXd",
        "outputId": "308dc786-79d7-47a6-9fac-1d435944834b"
      },
      "execution_count": 5,
      "outputs": [
        {
          "output_type": "stream",
          "name": "stdout",
          "text": [
            "[1 0 0 0 0 0 0 0 0]\n",
            "90    1\n",
            "91    0\n",
            "92    0\n",
            "93    0\n",
            "94    0\n",
            "95    1\n",
            "96    0\n",
            "97    0\n",
            "98    0\n",
            "Name: comprou, dtype: int64\n",
            "88.88888888888889\n",
            "9\n"
          ]
        }
      ]
    },
    {
      "cell_type": "markdown",
      "source": [
        "#Variavel categorica, classificando buscas"
      ],
      "metadata": {
        "id": "h2VYlWnizCgM"
      }
    },
    {
      "cell_type": "code",
      "source": [
        "df = pd.read_csv('buscas.csv')\n",
        "df"
      ],
      "metadata": {
        "colab": {
          "base_uri": "https://localhost:8080/",
          "height": 0
        },
        "id": "z3Sna6PYzNi7",
        "outputId": "f2bbceda-2efe-4e98-9f81-7f71c8449e27"
      },
      "execution_count": 6,
      "outputs": [
        {
          "output_type": "execute_result",
          "data": {
            "text/html": [
              "\n",
              "  <div id=\"df-e2509634-d0b0-4ae4-812f-162cce7d2d79\">\n",
              "    <div class=\"colab-df-container\">\n",
              "      <div>\n",
              "<style scoped>\n",
              "    .dataframe tbody tr th:only-of-type {\n",
              "        vertical-align: middle;\n",
              "    }\n",
              "\n",
              "    .dataframe tbody tr th {\n",
              "        vertical-align: top;\n",
              "    }\n",
              "\n",
              "    .dataframe thead th {\n",
              "        text-align: right;\n",
              "    }\n",
              "</style>\n",
              "<table border=\"1\" class=\"dataframe\">\n",
              "  <thead>\n",
              "    <tr style=\"text-align: right;\">\n",
              "      <th></th>\n",
              "      <th>home</th>\n",
              "      <th>busca</th>\n",
              "      <th>logado</th>\n",
              "      <th>comprou</th>\n",
              "    </tr>\n",
              "  </thead>\n",
              "  <tbody>\n",
              "    <tr>\n",
              "      <th>0</th>\n",
              "      <td>0</td>\n",
              "      <td>algoritmos</td>\n",
              "      <td>1</td>\n",
              "      <td>1</td>\n",
              "    </tr>\n",
              "    <tr>\n",
              "      <th>1</th>\n",
              "      <td>0</td>\n",
              "      <td>java</td>\n",
              "      <td>0</td>\n",
              "      <td>1</td>\n",
              "    </tr>\n",
              "    <tr>\n",
              "      <th>2</th>\n",
              "      <td>1</td>\n",
              "      <td>algoritmos</td>\n",
              "      <td>0</td>\n",
              "      <td>1</td>\n",
              "    </tr>\n",
              "    <tr>\n",
              "      <th>3</th>\n",
              "      <td>1</td>\n",
              "      <td>ruby</td>\n",
              "      <td>1</td>\n",
              "      <td>0</td>\n",
              "    </tr>\n",
              "    <tr>\n",
              "      <th>4</th>\n",
              "      <td>1</td>\n",
              "      <td>ruby</td>\n",
              "      <td>0</td>\n",
              "      <td>1</td>\n",
              "    </tr>\n",
              "    <tr>\n",
              "      <th>...</th>\n",
              "      <td>...</td>\n",
              "      <td>...</td>\n",
              "      <td>...</td>\n",
              "      <td>...</td>\n",
              "    </tr>\n",
              "    <tr>\n",
              "      <th>995</th>\n",
              "      <td>0</td>\n",
              "      <td>ruby</td>\n",
              "      <td>0</td>\n",
              "      <td>0</td>\n",
              "    </tr>\n",
              "    <tr>\n",
              "      <th>996</th>\n",
              "      <td>0</td>\n",
              "      <td>ruby</td>\n",
              "      <td>0</td>\n",
              "      <td>1</td>\n",
              "    </tr>\n",
              "    <tr>\n",
              "      <th>997</th>\n",
              "      <td>0</td>\n",
              "      <td>java</td>\n",
              "      <td>1</td>\n",
              "      <td>1</td>\n",
              "    </tr>\n",
              "    <tr>\n",
              "      <th>998</th>\n",
              "      <td>1</td>\n",
              "      <td>algoritmos</td>\n",
              "      <td>0</td>\n",
              "      <td>1</td>\n",
              "    </tr>\n",
              "    <tr>\n",
              "      <th>999</th>\n",
              "      <td>0</td>\n",
              "      <td>ruby</td>\n",
              "      <td>1</td>\n",
              "      <td>0</td>\n",
              "    </tr>\n",
              "  </tbody>\n",
              "</table>\n",
              "<p>1000 rows × 4 columns</p>\n",
              "</div>\n",
              "      <button class=\"colab-df-convert\" onclick=\"convertToInteractive('df-e2509634-d0b0-4ae4-812f-162cce7d2d79')\"\n",
              "              title=\"Convert this dataframe to an interactive table.\"\n",
              "              style=\"display:none;\">\n",
              "        \n",
              "  <svg xmlns=\"http://www.w3.org/2000/svg\" height=\"24px\"viewBox=\"0 0 24 24\"\n",
              "       width=\"24px\">\n",
              "    <path d=\"M0 0h24v24H0V0z\" fill=\"none\"/>\n",
              "    <path d=\"M18.56 5.44l.94 2.06.94-2.06 2.06-.94-2.06-.94-.94-2.06-.94 2.06-2.06.94zm-11 1L8.5 8.5l.94-2.06 2.06-.94-2.06-.94L8.5 2.5l-.94 2.06-2.06.94zm10 10l.94 2.06.94-2.06 2.06-.94-2.06-.94-.94-2.06-.94 2.06-2.06.94z\"/><path d=\"M17.41 7.96l-1.37-1.37c-.4-.4-.92-.59-1.43-.59-.52 0-1.04.2-1.43.59L10.3 9.45l-7.72 7.72c-.78.78-.78 2.05 0 2.83L4 21.41c.39.39.9.59 1.41.59.51 0 1.02-.2 1.41-.59l7.78-7.78 2.81-2.81c.8-.78.8-2.07 0-2.86zM5.41 20L4 18.59l7.72-7.72 1.47 1.35L5.41 20z\"/>\n",
              "  </svg>\n",
              "      </button>\n",
              "      \n",
              "  <style>\n",
              "    .colab-df-container {\n",
              "      display:flex;\n",
              "      flex-wrap:wrap;\n",
              "      gap: 12px;\n",
              "    }\n",
              "\n",
              "    .colab-df-convert {\n",
              "      background-color: #E8F0FE;\n",
              "      border: none;\n",
              "      border-radius: 50%;\n",
              "      cursor: pointer;\n",
              "      display: none;\n",
              "      fill: #1967D2;\n",
              "      height: 32px;\n",
              "      padding: 0 0 0 0;\n",
              "      width: 32px;\n",
              "    }\n",
              "\n",
              "    .colab-df-convert:hover {\n",
              "      background-color: #E2EBFA;\n",
              "      box-shadow: 0px 1px 2px rgba(60, 64, 67, 0.3), 0px 1px 3px 1px rgba(60, 64, 67, 0.15);\n",
              "      fill: #174EA6;\n",
              "    }\n",
              "\n",
              "    [theme=dark] .colab-df-convert {\n",
              "      background-color: #3B4455;\n",
              "      fill: #D2E3FC;\n",
              "    }\n",
              "\n",
              "    [theme=dark] .colab-df-convert:hover {\n",
              "      background-color: #434B5C;\n",
              "      box-shadow: 0px 1px 3px 1px rgba(0, 0, 0, 0.15);\n",
              "      filter: drop-shadow(0px 1px 2px rgba(0, 0, 0, 0.3));\n",
              "      fill: #FFFFFF;\n",
              "    }\n",
              "  </style>\n",
              "\n",
              "      <script>\n",
              "        const buttonEl =\n",
              "          document.querySelector('#df-e2509634-d0b0-4ae4-812f-162cce7d2d79 button.colab-df-convert');\n",
              "        buttonEl.style.display =\n",
              "          google.colab.kernel.accessAllowed ? 'block' : 'none';\n",
              "\n",
              "        async function convertToInteractive(key) {\n",
              "          const element = document.querySelector('#df-e2509634-d0b0-4ae4-812f-162cce7d2d79');\n",
              "          const dataTable =\n",
              "            await google.colab.kernel.invokeFunction('convertToInteractive',\n",
              "                                                     [key], {});\n",
              "          if (!dataTable) return;\n",
              "\n",
              "          const docLinkHtml = 'Like what you see? Visit the ' +\n",
              "            '<a target=\"_blank\" href=https://colab.research.google.com/notebooks/data_table.ipynb>data table notebook</a>'\n",
              "            + ' to learn more about interactive tables.';\n",
              "          element.innerHTML = '';\n",
              "          dataTable['output_type'] = 'display_data';\n",
              "          await google.colab.output.renderOutput(dataTable, element);\n",
              "          const docLink = document.createElement('div');\n",
              "          docLink.innerHTML = docLinkHtml;\n",
              "          element.appendChild(docLink);\n",
              "        }\n",
              "      </script>\n",
              "    </div>\n",
              "  </div>\n",
              "  "
            ],
            "text/plain": [
              "     home       busca  logado  comprou\n",
              "0       0  algoritmos       1        1\n",
              "1       0        java       0        1\n",
              "2       1  algoritmos       0        1\n",
              "3       1        ruby       1        0\n",
              "4       1        ruby       0        1\n",
              "..    ...         ...     ...      ...\n",
              "995     0        ruby       0        0\n",
              "996     0        ruby       0        1\n",
              "997     0        java       1        1\n",
              "998     1  algoritmos       0        1\n",
              "999     0        ruby       1        0\n",
              "\n",
              "[1000 rows x 4 columns]"
            ]
          },
          "metadata": {},
          "execution_count": 6
        }
      ]
    },
    {
      "cell_type": "code",
      "source": [
        "X = df[['home', 'busca', 'logado']]\n",
        "Y = df['comprou']\n",
        "\n",
        "Xdummies_df = pd.get_dummies(X)\n",
        "Ydummies_df = Y\n",
        "\n",
        "print(Xdummies_df)\n",
        "print(Ydummies_df)"
      ],
      "metadata": {
        "colab": {
          "base_uri": "https://localhost:8080/"
        },
        "id": "9buO-q_PCa40",
        "outputId": "2969382b-ea27-4320-d6bf-f503932ef134"
      },
      "execution_count": 7,
      "outputs": [
        {
          "output_type": "stream",
          "name": "stdout",
          "text": [
            "     home  logado  busca_algoritmos  busca_java  busca_ruby\n",
            "0       0       1                 1           0           0\n",
            "1       0       0                 0           1           0\n",
            "2       1       0                 1           0           0\n",
            "3       1       1                 0           0           1\n",
            "4       1       0                 0           0           1\n",
            "..    ...     ...               ...         ...         ...\n",
            "995     0       0                 0           0           1\n",
            "996     0       0                 0           0           1\n",
            "997     0       1                 0           1           0\n",
            "998     1       0                 1           0           0\n",
            "999     0       1                 0           0           1\n",
            "\n",
            "[1000 rows x 5 columns]\n",
            "0      1\n",
            "1      1\n",
            "2      1\n",
            "3      0\n",
            "4      1\n",
            "      ..\n",
            "995    0\n",
            "996    1\n",
            "997    1\n",
            "998    1\n",
            "999    0\n",
            "Name: comprou, Length: 1000, dtype: int64\n"
          ]
        }
      ]
    },
    {
      "cell_type": "code",
      "source": [
        "X = Xdummies_df.values## pega o dataframe e transforma em array\n",
        "Y = Ydummies_df.values\n",
        "X"
      ],
      "metadata": {
        "colab": {
          "base_uri": "https://localhost:8080/"
        },
        "id": "5DyqBzY-Cmay",
        "outputId": "13343cd4-3b85-4eff-a8ff-262ace3532f6"
      },
      "execution_count": 8,
      "outputs": [
        {
          "output_type": "execute_result",
          "data": {
            "text/plain": [
              "array([[0, 1, 1, 0, 0],\n",
              "       [0, 0, 0, 1, 0],\n",
              "       [1, 0, 1, 0, 0],\n",
              "       ...,\n",
              "       [0, 1, 0, 1, 0],\n",
              "       [1, 0, 1, 0, 0],\n",
              "       [0, 1, 0, 0, 1]])"
            ]
          },
          "metadata": {},
          "execution_count": 8
        }
      ]
    },
    {
      "cell_type": "code",
      "source": [
        "porcentagem_treino = 0.9\n",
        "\n",
        "tamanho_de_treino = int(porcentagem_treino * len(Y))\n",
        "tamanho_de_teste = len(Y) - tamanho_de_treino\n",
        "\n",
        "treino_dados = X[:tamanho_de_treino]\n",
        "treino_marcacoes = Y[:tamanho_de_treino]\n",
        "\n",
        "teste_dados = X[-tamanho_de_teste:]\n",
        "teste_marcacoes = Y[-tamanho_de_teste:]"
      ],
      "metadata": {
        "id": "dNE-nzF4Px4V"
      },
      "execution_count": 9,
      "outputs": []
    },
    {
      "cell_type": "code",
      "source": [
        "sum(Y)#todos os '1' a somas dele, se um algoritmo chutasse so '1' acertaria 83,2%"
      ],
      "metadata": {
        "colab": {
          "base_uri": "https://localhost:8080/"
        },
        "id": "5gqhbpUpBctu",
        "outputId": "5d740ace-a296-4d63-eeba-bd17a02f2200"
      },
      "execution_count": 10,
      "outputs": [
        {
          "output_type": "execute_result",
          "data": {
            "text/plain": [
              "832"
            ]
          },
          "metadata": {},
          "execution_count": 10
        }
      ]
    },
    {
      "cell_type": "code",
      "source": [
        "from sklearn.naive_bayes import MultinomialNB\n",
        "modelo = MultinomialNB()\n",
        "modelo.fit(treino_dados, treino_marcacoes)\n",
        "\n",
        "resultado = modelo.predict(teste_dados)\n",
        "\n",
        "diferencas = resultado - teste_marcacoes\n",
        "\n",
        "acertos = [d for d in diferencas if d == 0]\n",
        "total_de_acertos = len(acertos)\n",
        "total_de_elementos = len(teste_dados)\n",
        "\n",
        "taxa_de_acerto = 100.0 * total_de_acertos / total_de_elementos\n",
        "\n",
        "print(\"Taxa de acerto do algoritmo: %f\" % taxa_de_acerto)\n",
        "print(total_de_elementos)"
      ],
      "metadata": {
        "colab": {
          "base_uri": "https://localhost:8080/"
        },
        "id": "8KzrXgCsRu6c",
        "outputId": "023a4df9-3a14-4175-ed58-232870863d90"
      },
      "execution_count": 11,
      "outputs": [
        {
          "output_type": "stream",
          "name": "stdout",
          "text": [
            "Taxa de acerto do algoritmo: 82.000000\n",
            "100\n"
          ]
        }
      ]
    },
    {
      "cell_type": "code",
      "source": [
        "acerto_de_um = len(Y[Y==1])\n",
        "acerto_de_zero = len(Y[Y==0])\n",
        "taxa_de_acerto_base = 100.0 * max(acerto_de_um, acerto_de_zero) / len(Y)\n",
        "print(\"Taxa de acerto base: %f\" % taxa_de_acerto_base)"
      ],
      "metadata": {
        "colab": {
          "base_uri": "https://localhost:8080/"
        },
        "id": "5E8STEq5BpTS",
        "outputId": "552ab3b4-9722-4b15-9717-6fccf03dfcf9"
      },
      "execution_count": 12,
      "outputs": [
        {
          "output_type": "stream",
          "name": "stdout",
          "text": [
            "Taxa de acerto base: 83.200000\n"
          ]
        }
      ]
    },
    {
      "cell_type": "code",
      "source": [
        "import pandas as pd\n",
        "from collections import Counter\n",
        "\n",
        "# teste inicial: home, busca, logado => comprou\n",
        "# home, busca\n",
        "# home, logado\n",
        "# busca, logado\n",
        "# busca: 85,71% (7 testes)\n",
        "\n",
        "\n",
        "df = pd.read_csv('buscas.csv')\n",
        "#df = pd.read_csv('buscas2.csv')\n",
        "\n",
        "\n",
        "X_df = df[['home','busca', 'logado']]\n",
        "Y_df = df['comprou']\n",
        "\n",
        "Xdummies_df = pd.get_dummies(X_df)\n",
        "Ydummies_df = Y_df\n",
        "\n",
        "X = Xdummies_df.values\n",
        "Y = Ydummies_df.values \n",
        "\n",
        "porcentagem_de_treino = 0.8\n",
        "porcentagem_de_teste = 0.1\n",
        "\n",
        "tamanho_de_treino = int(porcentagem_de_treino * len(Y))\n",
        "tamanho_de_teste = int(porcentagem_de_teste * len(Y))\n",
        "tamanho_de_validacao = len(Y) - tamanho_de_treino - tamanho_de_teste\n",
        "\n",
        "treino_dados = X[:tamanho_de_treino]\n",
        "treino_marcacoes = Y[:tamanho_de_treino]\n",
        "\n",
        "fim_de_teste = tamanho_de_treino + tamanho_de_teste\n",
        "\n",
        "teste_dados = X[tamanho_de_treino:fim_de_teste]\n",
        "teste_marcacoes = Y[tamanho_de_treino:fim_de_teste]\n",
        "\n",
        "validacao_dados = X[fim_de_teste:]\n",
        "validacao_marcacoes = Y[fim_de_teste:]\n",
        "\n",
        "def fit_and_predict(nome, modelo, treino_dados, treino_marcacoes, teste_dados, teste_marcacoes):\n",
        "    modelo.fit(treino_dados, treino_marcacoes)\n",
        "\n",
        "    resultado = modelo.predict(teste_dados)\n",
        "\n",
        "    acertos = resultado == teste_marcacoes\n",
        "\n",
        "    total_de_acertos = sum(acertos)\n",
        "    total_de_elementos = len(teste_dados)\n",
        "\n",
        "    taxa_de_acerto = 100.0 * total_de_acertos / total_de_elementos\n",
        "\n",
        "    msg = \"Taxa de acerto do algoritmo {0}: {1}\".format(nome, taxa_de_acerto)\n",
        "\n",
        "    print(msg)\n",
        "    return taxa_de_acerto\n",
        "\n",
        "def teste_real(modelo, validacao_dados, validacao_marcacoes):\n",
        "    resultado = modelo.predict(validacao_dados)\n",
        "    acertos = resultado == validacao_marcacoes\n",
        "\n",
        "    total_de_acertos = sum(acertos)\n",
        "    total_de_elementos = len(validacao_marcacoes)\n",
        "\n",
        "    taxa_de_acerto = 100.0 * total_de_acertos / total_de_elementos\n",
        "\n",
        "    msg = \"Taxa de acerto do vencedor entre os dois algoritmos no mundo real: {0}\".format(taxa_de_acerto)\n",
        "    print(msg)\n",
        "\n",
        "from sklearn.naive_bayes import MultinomialNB\n",
        "modeloMultinomial = MultinomialNB()\n",
        "resultadoMultinomial = fit_and_predict(\"MultinomialNB\", modeloMultinomial, treino_dados,\n",
        " treino_marcacoes, teste_dados, teste_marcacoes)\n",
        "\n",
        "from sklearn.ensemble import AdaBoostClassifier\n",
        "modeloAdaBoost = AdaBoostClassifier()\n",
        "resultadoAdaBoost = fit_and_predict(\"AdaBoostClassifier\", modeloAdaBoost, treino_dados, \n",
        "treino_marcacoes, teste_dados, teste_marcacoes)\n",
        "\n",
        "if resultadoMultinomial > resultadoAdaBoost:\n",
        "    vencedor = modeloMultinomial\n",
        "else:\n",
        "    vencedor = modeloAdaBoost\n",
        "\n",
        "teste_real(vencedor, validacao_dados, validacao_marcacoes)\n",
        "\n",
        "acerto_base = max(Counter(validacao_marcacoes).values())\n",
        "taxa_de_acerto_base = 100.0 * acerto_base / len(validacao_marcacoes)\n",
        "print(\"Taxa de acerto base: %f\" % taxa_de_acerto_base)\n",
        "\n",
        "total_de_elementos = len(validacao_dados)\n",
        "print(\"Total de teste: %d\" % total_de_elementos)"
      ],
      "metadata": {
        "colab": {
          "base_uri": "https://localhost:8080/"
        },
        "id": "K0yReyHJkCWC",
        "outputId": "6249696b-48c7-4268-e7b9-f13de47d9f53"
      },
      "execution_count": 13,
      "outputs": [
        {
          "output_type": "stream",
          "name": "stdout",
          "text": [
            "Taxa de acerto do algoritmo MultinomialNB: 82.0\n",
            "Taxa de acerto do algoritmo AdaBoostClassifier: 84.0\n",
            "Taxa de acerto do vencedor entre os dois algoritmos no mundo real: 85.0\n",
            "Taxa de acerto base: 82.000000\n",
            "Total de teste: 100\n"
          ]
        }
      ]
    },
    {
      "cell_type": "markdown",
      "source": [
        "#Contador do python // Algoritmo base"
      ],
      "metadata": {
        "id": "4-sddR30IunQ"
      }
    },
    {
      "cell_type": "code",
      "source": [
        "from collections import Counter\n",
        "\n",
        "uri = 'https://raw.githubusercontent.com/alura-cursos/machine-learning-introducao-a-classificacao/master/busca.csv'\n",
        "\n",
        "dados2 = pd.read_csv(uri)#esses dados iram ter a label(Y) no formato string, 'sim' ou 'nao'\n",
        "\n",
        "X = dados2[['home', 'busca', 'logado']]\n",
        "Y = dados2['comprou']\n",
        "\n",
        "Xdummies_df = pd.get_dummies(X)\n",
        "Ydummies_df = Y\n",
        "\n",
        "X = Xdummies_df.values\n",
        "Y = Ydummies_df.values\n",
        "\n",
        "porcentagem_treino = 0.9\n",
        "\n",
        "tamanho_de_treino = int(porcentagem_treino * len(Y))\n",
        "tamanho_de_teste = len(Y) - tamanho_de_treino\n",
        "\n",
        "treino_dados = X[:tamanho_de_treino]\n",
        "treino_marcacoes = Y[:tamanho_de_treino]\n",
        "\n",
        "teste_dados = X[-tamanho_de_teste:]\n",
        "teste_marcacoes = Y[-tamanho_de_teste:]\n",
        "\n",
        "acerto_base = max(Counter(teste_marcacoes).values())## o max vai pegar o valor maximo, seja ela sim ou nao, o counter vai ver quantos sim e nao tem no Y\n",
        "\n",
        "acerto_de_um = list(teste_marcacoes).count('sim')\n",
        "acerto_de_zero = list(teste_marcacoes).count('nao')\n",
        "taxa_de_acerto_base = 100.0 * max(acerto_de_um, acerto_de_zero) / len(teste_marcacoes)\n",
        "print(\"Taxa de acerto base: %f\" % taxa_de_acerto_base)\n"
      ],
      "metadata": {
        "colab": {
          "base_uri": "https://localhost:8080/"
        },
        "id": "himLhbQYI3qL",
        "outputId": "9d1e1a9e-f592-4ca0-fcb7-0481f07d3dce"
      },
      "execution_count": 18,
      "outputs": [
        {
          "output_type": "stream",
          "name": "stdout",
          "text": [
            "Taxa de acerto base: 82.000000\n"
          ]
        }
      ]
    }
  ]
}